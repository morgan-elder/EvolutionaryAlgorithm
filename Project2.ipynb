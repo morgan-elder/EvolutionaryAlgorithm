{
  "cells": [
    {
      "cell_type": "markdown",
      "metadata": {
        "id": "F4VVRXdwIGdO"
      },
      "source": [
        "# Project 2\n",
        "\n",
        "Morgan Elder<br>\n",
        "Ben Vuong<br>\n",
        "CS 4320"
      ]
    },
    {
      "cell_type": "markdown",
      "metadata": {
        "id": "IrEwoGHFIGdP"
      },
      "source": [
        "1. Write a brief (no more than a paragraph) note on the importance of the choice of \n",
        "parameter settings in evolutionary algorithms. Or argue, with well-articulated, precise \n",
        "reasons (one paragraph only), that parameters do not really matter in EC.  "
      ]
    },
    {
      "cell_type": "markdown",
      "metadata": {
        "id": "aySISyHUIGdP"
      },
      "source": [
        "I would say that when working with evolutionary algorithms, diversity is very important for the growth and success of the evolutionary algorithms. There should not be one indiviudual within the population that over takes the other. If that would happen then there would be stagnation within the growth of the algorithms. In order to prevent such an event of happening and encourage growth and diversity, it is important to focus on the choice of parameters settings in evolutionary algorithms. If good parameters were choosen, there will be higher chances or growth and diversity to happen and the inverse would result in a higher chance of stangnation."
      ]
    },
    {
      "cell_type": "markdown",
      "metadata": {
        "id": "fy3UiAnoIGdP"
      },
      "source": [
        "Evolutionary algorithm (EA) parameters directly influence the exploration with diverse populations and exploitation of fit individuals. Parameters include all of the algorithm design choices such as genetic operators, operator parameters, stopping conditions, population size and seed. For example, parameters like the mutation rate or cross over probability can increase exploration whereas selection/sampling method can increase exploitation. Because EAs are stochastic, the applicability of an EA, more specfically the EA parameters, accross different problems, problem instances, and sizes must be compared using statistical methods and many runs that are *iid*. Therefore, parameter settings are an important part of the optimization process that must strike a balance between generalizability, computational cost, and performance."
      ]
    },
    {
      "cell_type": "markdown",
      "metadata": {
        "id": "MVLWKr_PcMKA"
      },
      "source": [
        "# De Jong Function 5: Variation of Shekel's Function \n",
        "\n",
        "The objective of this project is to minimize Shekel's function using parameters from De Jong function #5:\n",
        "\n",
        "$$f(\\vec{x}) = \\left(0.002 + \\sum_{i=1}^{25}\\frac{1}{i + (x_1 - a_{1i})^6 + (x_2 - a_{2i})^6}\\right)^{-1}$$\n",
        "\n",
        "where $$\n",
        "\\textbf{a} =\n",
        " \\begin{pmatrix}\n",
        "    -32 & -16 & 0 & 16 & 32 & -32 & \\ldots & 0 & 16 & 32 \\\\\n",
        "    -32 & -32 & -32 & -32 & -32 & -16 & \\ldots & 32 & 32 & 32\n",
        " \\end{pmatrix}$$\n",
        "\n",
        "The number of dimensions is 2 and the input domain is $-65.536 \\le x_i \\le 65.536$ for $i=1,2$. \n",
        "\n",
        "\n",
        "\n",
        "\n",
        "\n",
        "\n",
        "\n",
        "\n"
      ]
    },
    {
      "cell_type": "code",
      "execution_count": 1,
      "metadata": {
        "id": "_QPHBl0oiNVu"
      },
      "outputs": [],
      "source": [
        "#import modules\n",
        "import numpy as np\n",
        "from enum import Enum\n",
        "import warnings\n",
        "import inspect\n",
        "from typing import Union"
      ]
    },
    {
      "cell_type": "markdown",
      "metadata": {
        "id": "JCRBtaBwXA1L"
      },
      "source": [
        "## Optimization Goals\n",
        "\n",
        "Use the Optimization_Goal class as an enum type in order to define a goal variable as either min or max."
      ]
    },
    {
      "cell_type": "code",
      "execution_count": 2,
      "metadata": {
        "id": "JjWPX6o8SlBH"
      },
      "outputs": [],
      "source": [
        "class Optimization_Goal(Enum):\n",
        "  MINIMIZE = 1\n",
        "  MAXIMIZE = 2"
      ]
    },
    {
      "cell_type": "markdown",
      "metadata": {
        "id": "OdMpsrQmZkmI"
      },
      "source": [
        "## Optimization Problems\n",
        "\n",
        "Genetic algorithms are suited for optimization problems. The Problem class is used to identify subclasses as optimization problems."
      ]
    },
    {
      "cell_type": "code",
      "execution_count": 3,
      "metadata": {
        "id": "hdkCDF074zOu"
      },
      "outputs": [],
      "source": [
        "class Problem():\n",
        "  \"\"\"The Problem class defines the problems contains the definitions of\n",
        "  of problems. Problems include any information such as the optimization\n",
        "  goal (min/max), objective function, input dimension, domain/range constraints, \n",
        "  and more.\"\"\"\n",
        "  pass\n",
        "  \n",
        "class De_Jong_Function_5(Problem):\n",
        "  \"\"\"De Jong function #5 is variation of Shekel's foxeholes problem involving\n",
        "  25 local minima, 2 dimensions, and predefined constants.\n",
        "  This problem is suited for multimodal optimization.\"\"\"\n",
        "  dimensions=2\n",
        "  goal=Optimization_Goal.MINIMIZE\n",
        "  upper_bounds = [65.536, 65.536]\n",
        "  lower_bounds = [-65.536, -65.536]\n",
        "  constants_array = np.array(\n",
        "      [[-32., -16., 0., 16., 32., -32., -16., 0., 16., 32., -32., -16., 0., \n",
        "        16., 32., -32., -16., 0., 16., 32., -32., -16., 0., 16., 32.],\n",
        "        [-32., -32., -32., -32., -32., -16., -16., -16., -16., -16., 0., 0., \n",
        "        0., 0., 0., 16., 16., 16., 16., 16., 32., 32., 32., 32., 32.]]\n",
        "    )\n",
        "  def objective_function(self, X):\n",
        "    # array representing the 1st to 25th elements of the summation\n",
        "    array_i = np.arange(1, self.constants_array.shape[1]+1, step=1)\n",
        "    results = (0.002 + np.sum(1/(array_i \n",
        "                        + (X[:,[0]] - self.constants_array[0])**6\n",
        "                        + (X[:, [1]] - self.constants_array[1])**6), axis=1))**-1\n",
        "    return results    "
      ]
    },
    {
      "cell_type": "markdown",
      "metadata": {
        "id": "AKWs-cYDIGdR"
      },
      "source": [
        "## Genetic Operators"
      ]
    },
    {
      "cell_type": "code",
      "execution_count": 4,
      "metadata": {
        "id": "Ghgbp5iXIGdR"
      },
      "outputs": [],
      "source": [
        "class Genetic_Operator:\n",
        "    \"\"\"The Genetic_Operator base class defines the genetic operators used in\n",
        "    genetic algorithms. These include crossover and mutation.\"\"\"\n",
        "    pass"
      ]
    },
    {
      "cell_type": "markdown",
      "metadata": {
        "id": "f7av7ZOXIGdR"
      },
      "source": [
        "### Selection"
      ]
    },
    {
      "cell_type": "code",
      "execution_count": 5,
      "metadata": {
        "id": "P9kWvMh4IGdR"
      },
      "outputs": [
        {
          "ename": "SyntaxError",
          "evalue": "invalid syntax (736940007.py, line 44)",
          "output_type": "error",
          "traceback": [
            "\u001b[1;36m  Cell \u001b[1;32mIn [5], line 44\u001b[1;36m\u001b[0m\n\u001b[1;33m    def linear_ranking(self,fitness_values population):\u001b[0m\n\u001b[1;37m                                           ^\u001b[0m\n\u001b[1;31mSyntaxError\u001b[0m\u001b[1;31m:\u001b[0m invalid syntax\n"
          ]
        }
      ],
      "source": [
        "class Selection(Genetic_Operator):\n",
        "    \"\"\"The Selection class defines the selection operator used in genetic\n",
        "    algorithms. This includes the selection of parents and the selection of\n",
        "    survivors.\"\"\"\n",
        "    \n",
        "    def __init__(self, selection_type: str=\"proportional\", \n",
        "                 truncation_percentage: float=0.2, expected_best_copies: float=1.2):\n",
        "      # dictionary of selection types and their corresponding methods\n",
        "      selection_types = { \"proportional\": self.proportional,\n",
        "                          \"deterministic_tournament\": self.deterministic_tournament,\n",
        "                          \"linear_ranking\": self.linear_ranking,\n",
        "                          \"truncation\": self.truncation }\n",
        "      # check if selection type is valid\n",
        "      if selection_type not in selection_types:\n",
        "        raise ValueError(f\"Invalid selection type: {selection_type}\")\n",
        "      self.selection_type = selection_types[selection_type]\n",
        "\n",
        "      if selection_type == \"truncation\":\n",
        "        if truncation_percentage < 0 or truncation_percentage > 1:\n",
        "          raise ValueError(f\"Invalid truncation percentage: {truncation_percentage}\")\n",
        "        self.truncation_percentage = truncation_percentage\n",
        "\n",
        "      if selection_type == \"linear_ranking\":\n",
        "        # expected_best_copies must be 1 < x <= 2\n",
        "        if expected_best_copies <= 1 or expected_best_copies > 2:\n",
        "          raise ValueError(f\"Invalid expected copies of best: {expected_best_copies}\")\n",
        "        self.expected_best_copies = expected_best_copies\n",
        "    \n",
        "    def get_operator_args(self):\n",
        "      \"\"\"The get_operator_args method gets the arguments of the selection\n",
        "      method.\"\"\"\n",
        "      return inspect.getfullargspec(self.selection_type).args[1:]\n",
        "    \n",
        "    def proportional(self, population, fitness_values, goal, rng):\n",
        "      if (goal is Optimization_Goal.MAXIMIZE):\n",
        "        weights = fitness_values / np.sum(fitness_values, axis=0)\n",
        "      else:\n",
        "        fitness_values += 0.0001\n",
        "        weights = (1/fitness_values)/np.sum(1/fitness_values, axis=0)\n",
        "      \n",
        "      indexes = np.arange(population.shape[0])\n",
        "      indexes= rng.choice(indexes, size=population.shape[0], p=weights, replace=True)\n",
        "\n",
        "      return population[indexes, :]\n",
        "    \n",
        "    def deterministic_tournament(self, population):\n",
        "      # TODO implement deterministic tournament selection\n",
        "      #Psuedo Code/ general idea:\n",
        "      #take a random sample with replacement from the population, sample K individuals where K is how many opponents will enter the trounament\n",
        "      #take the max out of the K individuals that was sampled\n",
        "      #repeat N times where N = popsize\n",
        "      #for n in range(popsize)\n",
        "      # tournament = random.sample(population, K) \n",
        "      # winner = max(tournament, key=lambda individual: fitness_value[population.index(individual)]))\n",
        "      return population\n",
        "    \n",
        "    def linear_ranking(self,fitness_values, population, goal, rng):\n",
        "      # TODO implement linear ranking selection\n",
        "      #Psuedo Code/ general idea:\n",
        "      #sort the individuals by rank, then find the probability from rank\n",
        "      #rank = np.argsort(np.argsort(-fitness_values))# find the rank of each individual\n",
        "      #prob = (2-(2*rank)/(len(population)-1)) / len(population)\n",
        "      #selectedIndexs = rng.choice(indexes, size=population.shape[0], p=prob= replace=False)\n",
        "      #population = population[selectedIndexs,:]\n",
        "\n",
        "      if goal == Optimization_Goal.MAXIMIZE:\n",
        "        # sort the fitness values from smallest to largest\n",
        "        sorted_indexes = np.argsort(fitness_values)\n",
        "      elif goal == Optimization_Goal.MINIMIZE:\n",
        "        # sort the fitness values from largest to smallest\n",
        "        sorted_indexes = np.argsort(fitness_values)[::-1]\n",
        "\n",
        "      rank = np.arange(1, population.shape[0]+1)\n",
        "      probabilities = self.calc_rank_based_probabilities(rank, population.shape[0])\n",
        "\n",
        "      selected_indexes = rng.choice(sorted_indexes, size=population.shape[0],\n",
        "                                    p=probabilities, replace=True)\n",
        "\n",
        "      return population[selected_indexes, :]\n",
        "    \n",
        "    def calc_rank_based_probabilities(self, rank, population_size):\n",
        "      expected_worst_copies = 2 - self.expected_best_copies\n",
        "      probabilities = expected_worst_copies \\\n",
        "        + ((rank-1)/(population_size-1))*(self.expected_best_copies - expected_worst_copies)\n",
        "      probabilities /= population_size\n",
        "      return probabilities\n",
        "      \n",
        "    def truncation(self, population, goal, fitness_values, rng):\n",
        "      # TODO implement truncation selection\n",
        "      #Psuedo Code/ general idea:\n",
        "      #Take the individuals and their corresponding fittness and sort them from least to best\n",
        "      #Then take the top K best indivudals and their fitness \n",
        "      #sortedIndex=np.argsort(fitness_values)[::-1]\n",
        "      #selectedIndexs = sortedIndex[:K]\n",
        "      #population = population[selectedIndexs,:]\n",
        "\n",
        "      truncation_size = int(self.truncation_percentage * population.shape[0])\n",
        "      remaining_size = population.shape[0] - truncation_size\n",
        "      \n",
        "      if goal == Optimization_Goal.MAXIMIZE:\n",
        "        top_indexes = np.argpartition(fitness_values, -truncation_size, axis=0)[-truncation_size:]\n",
        "      elif goal == Optimization_Goal.MINIMIZE:\n",
        "        top_indexes = np.argpartition(fitness_values, truncation_size, axis=0)[:truncation_size]\n",
        "\n",
        "\n",
        "      fill_bottom_indexes = rng.choice(top_indexes, remaining_size, replace=True)\n",
        "      return_indexes = np.concatenate((top_indexes, fill_bottom_indexes))\n",
        "\n",
        "      return population[return_indexes, :]\n",
        "\n",
        "    def run(self, **kwargs):\n",
        "      \"\"\"The run method runs the selection operator.\"\"\"\n",
        "      return self.selection_type(**kwargs)\n",
        "        "
      ]
    },
    {
      "cell_type": "markdown",
      "metadata": {
        "id": "0D8iTM5WIGdS"
      },
      "source": [
        "### Cross Over"
      ]
    },
    {
      "cell_type": "code",
      "execution_count": null,
      "metadata": {
        "id": "pi_yomy7IGdS"
      },
      "outputs": [],
      "source": [
        "class Crossover(Genetic_Operator):\n",
        "    \"\"\"The Crossover class defines the crossover operator used in genetic\n",
        "    algorithms.\"\"\"\n",
        "    \n",
        "    def __init__(self, crossover_type: str=\"single_point\", rate: float=0.8):\n",
        "      crossover_types = { \"single_point\": self.single_point }\n",
        "      if crossover_type not in crossover_types:\n",
        "        raise ValueError(f\"Invalid crossover type: {crossover_type}\")\n",
        "      self.crossover_type = crossover_types[crossover_type]\n",
        "      self.rate = rate\n",
        "      \n",
        "\n",
        "    def single_point(self, population, rng):\n",
        "      offspring = np.zeros_like(population)\n",
        "      groups = rng.integers(0, population.shape[0], size=(population.shape[0],2))\n",
        "      is_group_selected = rng.uniform(0, 1, size=population.shape[0]) <= self.rate\n",
        "      for i, group in enumerate(groups):\n",
        "        if (is_group_selected[i]):\n",
        "          cross_point = self.generate_k_cross_points(population[group], rng)\n",
        "          offspring[i] = self.swap_at_cross_point(population[group, :], cross_point)\n",
        "        else:\n",
        "          offspring[i] = population[group[0],:]\n",
        "               \n",
        "      return offspring\n",
        "    \n",
        "    def generate_k_cross_points(self, group, rng, k=1):\n",
        "      \"\"\"Generate the location of the cross points.\"\"\"\n",
        "      return np.sort(rng.choice(range(1, group.shape[1]), size=k, replace=False))[0]\n",
        "    \n",
        "    def swap_at_cross_point(self, group, cross_point):\n",
        "      \"\"\"Return the vector with the elements swapped at the cross point.\"\"\"\n",
        "      group[0,cross_point:] = group[1,cross_point:]\n",
        "      return group[0]\n",
        "\n",
        "    def run(self, **kwargs):\n",
        "      \"\"\"The run method runs the crossover operator.\"\"\"\n",
        "      return self.crossover_type(**kwargs)\n",
        "\n",
        "    def get_operator_args(self):\n",
        "      \"\"\"The get_operator_args method gets the arguments of the crossover\n",
        "      method.\"\"\"\n",
        "      return inspect.getfullargspec(self.crossover_type).args[1:]\n"
      ]
    },
    {
      "cell_type": "markdown",
      "metadata": {
        "id": "a8-lvtOTIGdS"
      },
      "source": [
        "### Mutation"
      ]
    },
    {
      "cell_type": "code",
      "execution_count": null,
      "metadata": {
        "id": "Vi-k4lwjIGdS"
      },
      "outputs": [],
      "source": [
        "class Mutation(Genetic_Operator):\n",
        "    \"\"\"The Mutation class defines the mutation operator used in genetic\n",
        "    algorithms.\"\"\"\n",
        "    \n",
        "    def __init__(self, mutation_type: str=\"percent_of_range\", rate: float=0.1):\n",
        "      mutation_types = { \"percent_of_range\": self.percent_of_range }\n",
        "      if mutation_type not in mutation_types:\n",
        "        raise ValueError(f\"Invalid mutation type: {mutation_type}\")\n",
        "      self.mutation_type = mutation_types[mutation_type]\n",
        "      self.rate = rate\n",
        "\n",
        "    def percent_of_range(self, population, rng, lower_bounds, upper_bounds):\n",
        "      \"\"\"plus or minus a small percent of interval\"\"\"\n",
        "\n",
        "      upper_bounds = np.array(upper_bounds)\n",
        "      lower_bounds = np.array(lower_bounds)\n",
        "      \n",
        "      mutation_amount = abs(upper_bounds - lower_bounds) * 0.02\n",
        "      isMutating = rng.uniform(0,1,population.shape) <= self.rate\n",
        "      mutation_amount = mutation_amount * rng.choice([-1,1], size=population.shape) * isMutating\n",
        "      \n",
        "      return population + mutation_amount\n",
        "\n",
        "    def run(self, **kwargs):\n",
        "      \"\"\"The run method runs the mutation operator.\"\"\"\n",
        "      return self.mutation_type(**kwargs)\n",
        "\n",
        "    def get_operator_args(self):\n",
        "      \"\"\"The get_operator_args method gets the arguments of the mutation\n",
        "      method.\"\"\"\n",
        "      return inspect.getfullargspec(self.mutation_type).args[1:]"
      ]
    },
    {
      "cell_type": "markdown",
      "metadata": {
        "id": "0yWIYXVSIGdS"
      },
      "source": [
        "## Stopping Conditions"
      ]
    },
    {
      "cell_type": "code",
      "execution_count": null,
      "metadata": {
        "id": "GVv5Q1hTIGdS"
      },
      "outputs": [],
      "source": [
        "class Stopping_Condition:\n",
        "    \"\"\"The Stopping_Condition base class defines the stopping conditions used\n",
        "    in genetic algorithms. These include the number of generations and the\n",
        "    fitness threshold.\"\"\"\n",
        "\n",
        "    \n",
        "    pass\n",
        "\n",
        "class Max_Generations(Stopping_Condition):\n",
        "    \"\"\"The number_of_generations class defines the stopping condition based on\n",
        "    the number of generations.\"\"\"\n",
        "    def __init__(self, max_generations: int=100):\n",
        "      self.max_generations = max_generations\n",
        "    \n",
        "    def is_running(self, generation: int):\n",
        "        \"\"\"The is_running method checks if the algorithm should continue running\n",
        "        based on the number of generations.\"\"\"\n",
        "        running = True\n",
        "        if generation >= self.max_generations:\n",
        "            running = False\n",
        "        return running  \n",
        "    \n",
        "    def increase_max_generations(self, increase: int=100):\n",
        "        \"\"\"The increase_max_generations method increases the maximum number of\n",
        "        generations by a specified amount.\"\"\"\n",
        "        self.max_generations += increase\n",
        "\n",
        "    "
      ]
    },
    {
      "cell_type": "markdown",
      "metadata": {
        "id": "nQmEdfGxIGdS"
      },
      "source": [
        "## Genetic Algorithm"
      ]
    },
    {
      "cell_type": "code",
      "execution_count": null,
      "metadata": {
        "id": "tFPZ6-kzIGdT"
      },
      "outputs": [],
      "source": [
        "class Genetic_Algorithm():\n",
        "    problem : Problem\n",
        "    algorithm_steps : list[Genetic_Operator] = []\n",
        "    stopping_condition : Stopping_Condition\n",
        "    generation : int = 0\n",
        "    population : np.ndarray\n",
        "    population_size : int\n",
        "    fitness_values : np.ndarray\n",
        "    \n",
        "    def __init__(self, problem : Problem = None, algorithm_steps : list[Genetic_Operator] = [],\n",
        "                 stopping_condition : Stopping_Condition = Max_Generations(),\n",
        "                 seed : int = 1234, rng : np.random.Generator = None,\n",
        "                 population_size : int = 100, population : np.ndarray = np.array([]), \n",
        "                  ):\n",
        "        # loop locals and validate types\n",
        "        for key, value in locals().items():\n",
        "            match key:\n",
        "                case \"problem\":\n",
        "                    # check if problem is an instance of Problem\n",
        "                    if (not isinstance(value, Problem)):\n",
        "                        raise TypeError(f\"problem must be an instance of Problem. Received {type(value)}\")\n",
        "                    self.problem = value\n",
        "                case \"algorithm_steps\":\n",
        "                    # check if algorithm_steps is a list\n",
        "                    if (not isinstance(value, list)):\n",
        "                        raise TypeError(f\"algorithm_steps must be a list. Received {type(value)}\")\n",
        "                    # check if algorithm_steps is a list of Genetic_Operator\n",
        "                    if (not all(isinstance(item, Genetic_Operator) for item in value)):\n",
        "                        raise TypeError(f\"algorithm_steps must be a list of Genetic_Operator. Received {type(value)}\")\n",
        "                    self.algorithm_steps = value\n",
        "                case \"stopping_condition\":\n",
        "                    # check if stopping_condition is an instance of Stopping_Condition\n",
        "                    if (not isinstance(value, Stopping_Condition)):\n",
        "                        raise TypeError(f\"stopping_condition must be an instance of Stopping_Condition. Received {type(value)}\")\n",
        "                    self.stopping_condition = value\n",
        "                case \"population_size\":\n",
        "                    # check if population_size is an int or zero\n",
        "                    if (not isinstance(value, int)):\n",
        "                        raise TypeError(f\"stopping_condition must be an instance of int. Received {type(value)}\")\n",
        "                    self.population_size = value\n",
        "                case \"population\":\n",
        "                    if (not isinstance(value, np.ndarray)):\n",
        "                        raise TypeError(f\"population must be an instance of np.ndarray. Received {type(value)}\")\n",
        "\n",
        "                    if (len(value) == 0):\n",
        "                        self.population = self.generate_dataset()\n",
        "                    else:\n",
        "                        self.population = value\n",
        "                case \"seed\":\n",
        "                    # check if seed is an int\n",
        "                    if (not isinstance(value, int)):\n",
        "                        raise TypeError(f\"seed must be an instance of int. Received {type(value)}\")\n",
        "                    self.seed = value\n",
        "                case \"rng\":\n",
        "                    if (value is None):\n",
        "                        self.rng = np.random.default_rng(self.seed)\n",
        "                    # check if rng is an instance of np.random.Generator\n",
        "                    elif (not isinstance(value, np.random.Generator)):\n",
        "                        raise TypeError(f\"rng must be an instance of np.random.Generator. Received {type(value)}\")\n",
        "                    else:\n",
        "                        self.rng = value\n",
        "\n",
        "    \n",
        "\n",
        "    def generate_dataset(self):\n",
        "        \"\"\"Randomly generate a population as a numpy array of size=(population size, dimensions)\n",
        "        with values from the half-closed interval [min_x, max_x) from a uniform distribution\"\"\"\n",
        "        # check if dimensions exist and is int\n",
        "        if (not hasattr(self.problem, \"dimensions\")):\n",
        "            raise Exception(\"The problem object should have a dimensions attribute defining the size (# of cols) the input vector has\")\n",
        "        elif (not isinstance(self.problem.dimensions, int)):\n",
        "            raise TypeError(f\"The problem dimensions should be an int. Received {self.problem.dimensions}\")\n",
        "        \n",
        "        args = {}\n",
        "\n",
        "        args[\"size\"] = (self.population_size, self.problem.dimensions)\n",
        "        if (hasattr(self.problem, \"lower_bounds\")):\n",
        "            args[\"low\"] = self.problem.lower_bounds\n",
        "        if (hasattr(self.problem, \"upper_bounds\")):\n",
        "            args[\"high\"] = self.problem.upper_bounds\n",
        "\n",
        "        return self.rng.uniform(**args)\n",
        "            \n",
        "\n",
        "    def add_step(self, step : Genetic_Operator):\n",
        "        \"\"\"Add a step to the algorithm. The step will be appended to the\n",
        "        end of the algorithm.\"\"\"\n",
        "        # check if step is a Genetic_Operator\n",
        "        if (not isinstance(step, Genetic_Operator)):\n",
        "            raise TypeError(f\"step must be a Genetic_Operator. Received {type(step)}\")\n",
        "        self.algorithm_steps.append(step)\n",
        "\n",
        "    def add_steps(self, steps : list[Genetic_Operator]):\n",
        "        \"\"\"Add multiple steps to the algorithm. The steps will be appended to the\n",
        "        end of the algorithm.\"\"\"\n",
        "        # check if steps is a list\n",
        "        if (not isinstance(steps, list)):\n",
        "            raise TypeError(f\"steps must be a list. Received {type(steps)}\")\n",
        "        # check if steps is a list of Genetic_Operator\n",
        "        if (not all(isinstance(item, Genetic_Operator) for item in steps)):\n",
        "            raise TypeError(f\"steps must be a list of Genetic_Operator. Received {type(steps)}\")\n",
        "        self.algorithm_steps.extend(steps)\n",
        "\n",
        "    def set_problem(self, problem : Problem):\n",
        "        \"\"\"Set the problem to be solved. If a problem has already been set,\n",
        "        it will be overwritten and a warning will be raised.\"\"\"\n",
        "        if (self.problem is not None):\n",
        "            # \n",
        "            warnings.warn(f\"Problem already set to {self.problem}. Overwriting with {problem}.\")\n",
        "        self.problem = problem\n",
        "\n",
        "    def run(self):\n",
        "        \"\"\"Run the genetic algorithm.\"\"\"\n",
        "        if (self.is_ready()):\n",
        "            self.fitness_values = self.evaluate()\n",
        "\n",
        "            # run algorithm steps\n",
        "            while (self.is_running()):\n",
        "                for step in self.algorithm_steps:\n",
        "                    # build arg dict for algorithm step and then run it\n",
        "\n",
        "                    step_args = self.build_arg_dict_from_names(step.get_operator_args())\n",
        "                    \n",
        "                    self.population = step.run(**step_args)\n",
        "                self. fitness_values = self.evaluate()\n",
        "                # record metrics\n",
        "                \n",
        "                self.generation += 1\n",
        "    \n",
        "    def build_arg_dict_from_names(self, names):\n",
        "        \"\"\"Build an argument dictionary from a list of names.\"\"\"\n",
        "        args = {}\n",
        "        for name in names:\n",
        "            if (name == \"self\"):\n",
        "                continue\n",
        "            if (hasattr(self, name)):\n",
        "                args[name] = getattr(self, name)\n",
        "            elif (hasattr(self.problem, name)):\n",
        "                args[name] = getattr(self.problem, name)\n",
        "            elif (hasattr(self.stopping_condition, name)):\n",
        "                args[name] = getattr(self.stopping_condition, name)\n",
        "            else:\n",
        "                raise AttributeError(f\"Could not find attribute {name}\") \n",
        "\n",
        "        return args\n",
        "\n",
        "    def build_arg_dict_from_func(self, func):\n",
        "        \"\"\"Build an argument dictionary for a function.\"\"\"\n",
        "        signature = inspect.signature(func)\n",
        "        # build arg dict for algorithm step\n",
        "        args = {}\n",
        "        for param in signature.parameters.values():\n",
        "            if param.name == \"self\":\n",
        "                continue\n",
        "            args[param.name] = getattr(self, param.name)\n",
        "        return args\n",
        "\n",
        "    def is_running(self):\n",
        "        \"\"\"Check if the genetic algorithm should continue running.\"\"\"\n",
        "        stopping_condition_args = self.build_arg_dict_from_func(self.stopping_condition.is_running)\n",
        "        return self.stopping_condition.is_running(**stopping_condition_args)\n",
        "\n",
        "    def is_ready(self):\n",
        "        \"\"\"Check if the genetic algorithm is ready to run.\"\"\"\n",
        "        if (self.problem is None):\n",
        "            raise ValueError(\"No problem has been set.\")\n",
        "        if (len(self.algorithm_steps) == 0):\n",
        "            raise ValueError(\"No algorithm steps have been set.\")\n",
        "        if (self.stopping_condition is None):\n",
        "            raise ValueError(\"No stopping condition has been set.\")\n",
        "        return True\n",
        "\n",
        "    def evaluate(self):\n",
        "        \"\"\"Evaluate the population using the objective function.\"\"\"\n",
        "        # check if objective function exists\n",
        "        if (not hasattr(self.problem, \"objective_function\")):\n",
        "            raise Exception(\"The problem object should have an objective_function attribute defining the objective function to be used\")\n",
        "        # check if objective function is callable\n",
        "        if (not callable(self.problem.objective_function)):\n",
        "            raise TypeError(f\"The problem objective_function should be callable. Received {type(self.problem.objective_function)}\")\n",
        "        # evaluate population\n",
        "        return self.problem.objective_function(self.population)\n",
        "    \n",
        "    def get_optimum_index_and_value(self):\n",
        "        \"\"\"Return the optimum index and value from the population.\"\"\"\n",
        "        if (self.problem.goal == Optimization_Goal.MAXIMIZE):\n",
        "            optimum = np.max(self.fitness_values)\n",
        "            optimum_index = np.argmax(self.fitness_values, axis=0)\n",
        "        elif (self.problem.goal == Optimization_Goal.MINIMIZE):\n",
        "            optimum = np.min(self.fitness_values)\n",
        "            optimum_index = np.argmin(self.fitness_values, axis=0)\n",
        "\n",
        "        return optimum_index, optimum\n",
        "    \n",
        "    def get_worst_index_and_value(self):\n",
        "        \"\"\"Return the worst index and value from the population.\"\"\"\n",
        "        if (self.problem.goal == Optimization_Goal.MAXIMIZE):\n",
        "            worst = np.min(self.fitness_values)\n",
        "            worst_index = np.argmin(self.fitness_values, axis=0)\n",
        "        elif (self.problem.goal == Optimization_Goal.MINIMIZE):\n",
        "            worst = np.max(self.fitness_values)\n",
        "            worst_index = np.argmax(self.fitness_values, axis=0)\n",
        "\n",
        "        return worst_index, worst\n",
        "    "
      ]
    },
    {
      "cell_type": "code",
      "execution_count": null,
      "metadata": {
        "id": "EHeW-mHb0K1F"
      },
      "outputs": [],
      "source": [
        "# define genetic algorithm parameters in a dictionary\n",
        "ga_parameters = {\n",
        "  'problem' : De_Jong_Function_5(),\n",
        "  'algorithm_steps' : [Selection(selection_type=\"truncation\"), Crossover(), Mutation()],\n",
        "  'stopping_condition' : Max_Generations(1),\n",
        "  'population_size' : 30,\n",
        "  \n",
        "}\n",
        "\n",
        "# create a genetic algorithm object\n",
        "ga = Genetic_Algorithm(**ga_parameters)"
      ]
    },
    {
      "cell_type": "code",
      "execution_count": null,
      "metadata": {
        "id": "XsISHORYIGdT"
      },
      "outputs": [],
      "source": [
        "\n",
        "ga.run()"
      ]
    },
    {
      "cell_type": "code",
      "execution_count": null,
      "metadata": {
        "id": "sMcWkt2bIGdU"
      },
      "outputs": [],
      "source": [
        "# print best vector\n",
        "print(ga.population[ga.get_optimum_index_and_value()[0]])\n"
      ]
    },
    {
      "cell_type": "markdown",
      "metadata": {
        "id": "8jMn0qWXIHrg"
      },
      "source": [
        "We, Ben Vuong and Morgan Elder, certify that this report is our own, independent work and that it does not plagiarize, in part or in full, any other work."
      ]
    }
  ],
  "metadata": {
    "colab": {
      "provenance": []
    },
    "kernelspec": {
      "display_name": "Python 3",
      "name": "python3"
    },
    "language_info": {
      "codemirror_mode": {
        "name": "ipython",
        "version": 3
      },
      "file_extension": ".py",
      "mimetype": "text/x-python",
      "name": "python",
      "nbconvert_exporter": "python",
      "pygments_lexer": "ipython3",
      "version": "3.10.6"
    }
  },
  "nbformat": 4,
  "nbformat_minor": 0
}
