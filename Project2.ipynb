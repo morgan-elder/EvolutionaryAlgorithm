{
  "nbformat": 4,
  "nbformat_minor": 0,
  "metadata": {
    "colab": {
      "provenance": [],
      "authorship_tag": "ABX9TyM2BiHVAkrXW2gkda63j22f"
    },
    "kernelspec": {
      "name": "python3",
      "display_name": "Python 3"
    },
    "language_info": {
      "name": "python"
    }
  },
  "cells": [
    {
      "cell_type": "code",
      "execution_count": 1,
      "metadata": {
        "colab": {
          "base_uri": "https://localhost:8080/"
        },
        "id": "DQP_l46_yFhh",
        "outputId": "7357bea1-0176-49bf-e007-a124f0a8e311"
      },
      "outputs": [
        {
          "output_type": "stream",
          "name": "stdout",
          "text": [
            "Hello Evolutionary Algorithms\n"
          ]
        }
      ],
      "source": [
        "print(\"Hello Evolutionary Algorithms\")"
      ]
    },
    {
      "cell_type": "code",
      "source": [
        "print(\"Hello Genetic Algorithms\")"
      ],
      "metadata": {
        "colab": {
          "base_uri": "https://localhost:8080/"
        },
        "id": "EHeW-mHb0K1F",
        "outputId": "c9cfc823-78a1-40e3-e2c5-b94a9ad77b7c"
      },
      "execution_count": 2,
      "outputs": [
        {
          "output_type": "stream",
          "name": "stdout",
          "text": [
            "Hello Genetic Algorithms\n"
          ]
        }
      ]
    }
  ]
}