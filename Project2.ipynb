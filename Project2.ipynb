{
  "cells": [
    {
      "attachments": {},
      "cell_type": "markdown",
      "metadata": {},
      "source": [
        "# Project 2\n",
        "\n",
        "Morgan Elder<br>\n",
        "Ben Vuong<br>\n",
        "CS 4320"
      ]
    },
    {
      "attachments": {},
      "cell_type": "markdown",
      "metadata": {},
      "source": [
        "1. Write a brief (no more than a paragraph) note on the importance of the choice of \n",
        "parameter settings in evolutionary algorithms. Or argue, with well-articulated, precise \n",
        "reasons (one paragraph only), that parameters do not really matter in EC.  "
      ]
    },
    {
      "attachments": {},
      "cell_type": "markdown",
      "metadata": {},
      "source": [
        "I would say that when working with evolutionary algorithms, diversity is very important for the growth and success of the evolutionary algorithms. There should not be one indiviudual within the population that over takes the other. If that would happen then there would be stagnation within the growth of the algorithms. In order to prevent such an event of happening and encourage growth and diversity, it is important to focus on the choice of parameters settings in evolutionary algorithms. If good parameters were choosen, there will be higher chances or growth and diversity to happen and the inverse would result in a higher chance of stangnation."
      ]
    },
    {
      "attachments": {},
      "cell_type": "markdown",
      "metadata": {},
      "source": [
        "Evolutionary algorithm (EA) parameters directly influence the exploration with diverse populations and exploitation of fit individuals. Parameters include all of the algorithm design choices such as genetic operators, operator parameters, stopping conditions, population size and seed. For example, parameters like the mutation rate or cross over probability can increase exploration whereas selection/sampling method can increase exploitation. Because EAs are stochastic, the applicability of an EA, more specfically the EA parameters, accross different problems, problem instances, and sizes must be compared using statistical methods and many runs that are *iid*. Therefore, parameter settings are an important part of the optimization process that must strike a balance between generalizability, computational cost, and performance."
      ]
    },
    {
      "cell_type": "markdown",
      "metadata": {
        "id": "MVLWKr_PcMKA"
      },
      "source": [
        "# De Jong Function 5: Variation of Shekel's Function \n",
        "\n",
        "The objective of this project is to minimize Shekel's function using parameters from De Jong function #5:\n",
        "\n",
        "$$f(\\vec{x}) = \\left(0.002 + \\sum_{i=1}^{25}\\frac{1}{i + (x_1 - a_{1i})^6 + (x_2 - a_{2i})^6}\\right)^{-1}$$\n",
        "\n",
        "where $$\n",
        "\\textbf{a} =\n",
        " \\begin{pmatrix}\n",
        "    -32 & -16 & 0 & 16 & 32 & -32 & \\ldots & 0 & 16 & 32 \\\\\n",
        "    -32 & -32 & -32 & -32 & -32 & -16 & \\ldots & 32 & 32 & 32\n",
        " \\end{pmatrix}$$\n",
        "\n",
        "The number of dimensions is 2 and the input domain is $-65.536 \\le x_i \\le 65.536$ for $i=1,2$. \n",
        "\n",
        "\n",
        "\n",
        "\n",
        "\n",
        "\n",
        "\n",
        "\n"
      ]
    },
    {
      "cell_type": "code",
      "execution_count": 268,
      "metadata": {
        "id": "_QPHBl0oiNVu"
      },
      "outputs": [],
      "source": [
        "#import modules\n",
        "import numpy as np\n",
        "from enum import Enum\n",
        "import warnings"
      ]
    },
    {
      "cell_type": "markdown",
      "metadata": {
        "id": "JCRBtaBwXA1L"
      },
      "source": [
        "## Optimization Goals\n",
        "\n",
        "Use the Optimization_Goal class as an enum type in order to define a goal variable as either min or max."
      ]
    },
    {
      "cell_type": "code",
      "execution_count": 269,
      "metadata": {
        "id": "JjWPX6o8SlBH"
      },
      "outputs": [],
      "source": [
        "class Optimization_Goal(Enum):\n",
        "  MINIMIZE = 1\n",
        "  MAXIMIZE = 2"
      ]
    },
    {
      "attachments": {},
      "cell_type": "markdown",
      "metadata": {
        "id": "OdMpsrQmZkmI"
      },
      "source": [
        "## Optimization Problems\n",
        "\n",
        "Genetic algorithms are suited for optimization problems. The Problem class is used to identify subclasses as optimization problems."
      ]
    },
    {
      "cell_type": "code",
      "execution_count": 270,
      "metadata": {
        "id": "hdkCDF074zOu"
      },
      "outputs": [],
      "source": [
        "class Problem():\n",
        "  \"\"\"The Problem class defines the problems contains the definitions of\n",
        "  of problems. Problems include any information such as the optimization\n",
        "  goal (min/max), objective function, input dimension, domain/range constraints, \n",
        "  and more.\"\"\"\n",
        "  pass\n",
        "  \n",
        "class De_Jong_Function_5(Problem):\n",
        "  \"\"\"De Jong function #5 is variation of Shekel's foxeholes problem involving\n",
        "  25 local minima, 2 dimensions, and predefined constants.\n",
        "  This problem is suited for multimodal optimization.\"\"\"\n",
        "  dimensions=2\n",
        "  goal=Optimization_Goal.MINIMIZE\n",
        "  upper_bounds = [65.536, 65.536]\n",
        "  lower_bounds = [-65.536, 65.536]\n",
        "  constants_array = np.array(\n",
        "      [[-32., -16., 0., 16., 32., -32., -16., 0., 16., 32., -32., -16., 0., \n",
        "        16., 32., -32., -16., 0., 16., 32., -32., -16., 0., 16., 32.],\n",
        "        [-32., -32., -32., -32., -32., -16., -16., -16., -16., -16., 0., 0., \n",
        "        0., 0., 0., 16., 16., 16., 16., 16., 32., 32., 32., 32., 32.]]\n",
        "    )\n",
        "  def objective_function(self, X):\n",
        "    # array representing the 1st to 25th elements of the summation\n",
        "    array_i = np.arange(1, self.constants_array.shape[1]+1, step=1)\n",
        "    results = (0.002 + np.sum(1/(array_i \n",
        "                        + (X[:,[0]] - self.constants_array[0])**6\n",
        "                        + (X[:, [1]] - self.constants_array[1])**6), axis=1))**-1\n",
        "    return results    "
      ]
    },
    {
      "attachments": {},
      "cell_type": "markdown",
      "metadata": {},
      "source": [
        "## Genetic Algorithm"
      ]
    },
    {
      "cell_type": "code",
      "execution_count": 271,
      "metadata": {},
      "outputs": [],
      "source": [
        "class Genetic_Algorithm():\n",
        "    problem : Problem\n",
        "\n",
        "    def __init__(self, problem : Problem = None):\n",
        "        # loop locals and validate types\n",
        "        for key, value in locals().items():\n",
        "            match key:\n",
        "                case \"problem\":\n",
        "                    # check if problem is an instance of Problem\n",
        "                    if (not isinstance(value, Problem)):\n",
        "                        raise TypeError(f\"problem must be an instance of Problem. Received {type(value)}\")\n",
        "                    self.problem = value\n",
        "\n",
        "        pass\n",
        "\n",
        "    \n",
        "    \n",
        "\n",
        "    def set_problem(self, problem : Problem):\n",
        "        \"\"\"Set the problem to be solved.\"\"\"\n",
        "        if (self.problem is not None):\n",
        "            # \n",
        "            warnings.warn(f\"Problem already set to {self.problem}. Overwriting with {problem}.\")\n",
        "        self.problem = problem\n",
        "    "
      ]
    },
    {
      "cell_type": "code",
      "execution_count": 272,
      "metadata": {
        "id": "EHeW-mHb0K1F"
      },
      "outputs": [],
      "source": [
        "# define genetic algorithm parameters in a dictionary\n",
        "ga_parameters = {\n",
        "  'problem' : De_Jong_Function_5()\n",
        "}\n",
        "\n",
        "# create a genetic algorithm object\n",
        "ga = Genetic_Algorithm(problem=De_Jong_Function_5())"
      ]
    }
  ],
  "metadata": {
    "colab": {
      "provenance": []
    },
    "kernelspec": {
      "display_name": "Python 3",
      "name": "python3"
    },
    "language_info": {
      "codemirror_mode": {
        "name": "ipython",
        "version": 3
      },
      "file_extension": ".py",
      "mimetype": "text/x-python",
      "name": "python",
      "nbconvert_exporter": "python",
      "pygments_lexer": "ipython3",
      "version": "3.10.6"
    }
  },
  "nbformat": 4,
  "nbformat_minor": 0
}
