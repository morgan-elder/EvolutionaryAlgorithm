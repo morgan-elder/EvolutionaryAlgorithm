{
  "nbformat": 4,
  "nbformat_minor": 0,
  "metadata": {
    "colab": {
      "provenance": [],
      "authorship_tag": "ABX9TyPXcsozuhXzpTuENTCXlpy/"
    },
    "kernelspec": {
      "name": "python3",
      "display_name": "Python 3"
    },
    "language_info": {
      "name": "python"
    }
  },
  "cells": [
    {
      "cell_type": "markdown",
      "source": [
        "# Shekel's Function\n",
        "\n",
        "The objective of this project is to minimize Shekel's function using parameters from De Jong function #5:\n",
        "\n",
        "$$f(\\vec{x}) = \\left(0.002 + \\sum_{i=1}^{25}\\frac{1}{i + (x_1 - a_{1i})^6 + (x_2 - a_{2i})^6}\\right)^{-1}$$\n",
        "\n",
        "where $$\n",
        "\\textbf{a} =\n",
        " \\begin{pmatrix}\n",
        "    -32 & -16 & 0 & 16 & 32 & -32 & \\ldots & 0 & 16 & 32 \\\\\n",
        "    -32 & -32 & -32 & -32 & -32 & -16 & \\ldots & 32 & 32 & 32\n",
        " \\end{pmatrix}$$\n",
        "\n",
        "The number of dimensions is 2 and the input domain is $-65.536 \\le x_i \\le 65.536$ for $i=1,2$. \n",
        "\n",
        "\n",
        "\n",
        "\n",
        "\n",
        "\n",
        "\n",
        "\n"
      ],
      "metadata": {
        "id": "MVLWKr_PcMKA"
      }
    },
    {
      "cell_type": "code",
      "execution_count": null,
      "metadata": {
        "colab": {
          "base_uri": "https://localhost:8080/"
        },
        "id": "DQP_l46_yFhh",
        "outputId": "7357bea1-0176-49bf-e007-a124f0a8e311"
      },
      "outputs": [
        {
          "output_type": "stream",
          "name": "stdout",
          "text": [
            "Hello Evolutionary Algorithms\n"
          ]
        }
      ],
      "source": [
        "|print(\"Hello Evolutionary Algorithms\")"
      ]
    },
    {
      "cell_type": "code",
      "source": [
        "print(\"Hello Genetic Algorithms\")"
      ],
      "metadata": {
        "colab": {
          "base_uri": "https://localhost:8080/"
        },
        "id": "EHeW-mHb0K1F",
        "outputId": "c9cfc823-78a1-40e3-e2c5-b94a9ad77b7c"
      },
      "execution_count": null,
      "outputs": [
        {
          "output_type": "stream",
          "name": "stdout",
          "text": [
            "Hello Genetic Algorithms\n"
          ]
        }
      ]
    }
  ]
}