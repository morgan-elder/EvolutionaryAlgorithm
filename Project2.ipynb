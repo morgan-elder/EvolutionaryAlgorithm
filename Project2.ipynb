{
  "nbformat": 4,
  "nbformat_minor": 0,
  "metadata": {
    "colab": {
      "provenance": [],
      "authorship_tag": "ABX9TyMR2PctPLmO2DAWZr2YQWUO"
    },
    "kernelspec": {
      "name": "python3",
      "display_name": "Python 3"
    },
    "language_info": {
      "name": "python"
    }
  },
  "cells": [
    {
      "cell_type": "markdown",
      "source": [
        "# Shekel's Function\n",
        "\n",
        "The objective of this project is to minimize Shekel's function:\n",
        "\n",
        "$$f(\\vec{x}) = -\\sum_{j=1}^{m} \\frac{1}{\\sum_{i=1}^{n}(x_i - a_ij)^2 + c_j}$$\n",
        "\n",
        "$$\n",
        "a_{n,m} =\n",
        " \\begin{pmatrix}\n",
        "  4.0 & 1.0 & 8.0 & 6.0 & 3.0 & 2.0 & 5.0 & 8.0 & 6.0 & 7.0 \\\\\n",
        "  4.0 & 1.0 & 8.0 & 6.0 & 7.0 & 9.0 & 5.0 & 1.0 & 2.0 & 3.6 \\\\\n",
        "  4.0 & 1.0 & 8.0 & 6.0 & 3.0 & 2.0 & 3.0 & 8.0 & 6.0 & 7.0 \\\\\n",
        "  4.0 & 1.0 & 8.0 & 6.0 & 7.0 & 9.0 & 3.0 & 1.0 & 2.0 & 3.6 \\\\\n",
        "  4.0 & 1.0 & 8.0 & 6.0 & 3.0 & 2.0 & 5.0 & 8.0 & 6.0 & 7.0 \\\\\n",
        "  4.0 & 1.0 & 8.0 & 6.0 & 7.0 & 9.0 & 5.0 & 1.0 & 2.0 & 3.6 \\\\\n",
        "  4.0 & 1.0 & 8.0 & 6.0 & 3.0 & 2.0 & 3.0 & 8.0 & 6.0 & 7.0 \\\\\n",
        "  4.0 & 1.0 & 8.0 & 6.0 & 7.0 & 9.0 & 3.0 & 1.0 & 2.0 & 3.6 \\\\\n",
        "  4.0 & 1.0 & 8.0 & 6.0 & 3.0 & 2.0 & 5.0 & 8.0 & 6.0 & 7.0 \\\\\n",
        "  4.0 & 1.0 & 8.0 & 6.0 & 7.0 & 9.0 & 5.0 & 1.0 & 2.0 & 3.6\n",
        " \\end{pmatrix}$$\n",
        "\n",
        " $$\\vec{c} = \n",
        " \\begin{pmatrix}\n",
        "  0.1 & 0.2 & 0.2 & 0.4 & 0.6 & 0.6 & 0.3 & 0.7 & 0.5 & 0.5\n",
        " \\end{pmatrix}^T$$\n",
        "\n",
        "where $m$ is the number of local minima, $n$ is the number of dimensions of $\\vec{x}$, $c_j$ is a constant from the $m$-dimensional $\\vec{c}$ vector, and $a_ij$ is a constant from the $n$ by $m$ matrix $\\textbf{a}$. The function parameters are defined in table 1. \n",
        "\n",
        "| Table 1. Function Parameters |\n",
        "| :---: |\n",
        "| $n=10$ |\n",
        "| $m=10$ |\n",
        "| $0 \\le x_i \\le 10$ for $i=1,2,3, ..., n$ |\n",
        "\n",
        "\n",
        "\n",
        "\n",
        "\n",
        "\n",
        "\n"
      ],
      "metadata": {
        "id": "MVLWKr_PcMKA"
      }
    },
    {
      "cell_type": "code",
      "execution_count": null,
      "metadata": {
        "colab": {
          "base_uri": "https://localhost:8080/"
        },
        "id": "DQP_l46_yFhh",
        "outputId": "7357bea1-0176-49bf-e007-a124f0a8e311"
      },
      "outputs": [
        {
          "output_type": "stream",
          "name": "stdout",
          "text": [
            "Hello Evolutionary Algorithms\n"
          ]
        }
      ],
      "source": [
        "|print(\"Hello Evolutionary Algorithms\")"
      ]
    },
    {
      "cell_type": "code",
      "source": [
        "print(\"Hello Genetic Algorithms\")"
      ],
      "metadata": {
        "colab": {
          "base_uri": "https://localhost:8080/"
        },
        "id": "EHeW-mHb0K1F",
        "outputId": "c9cfc823-78a1-40e3-e2c5-b94a9ad77b7c"
      },
      "execution_count": null,
      "outputs": [
        {
          "output_type": "stream",
          "name": "stdout",
          "text": [
            "Hello Genetic Algorithms\n"
          ]
        }
      ]
    }
  ]
}