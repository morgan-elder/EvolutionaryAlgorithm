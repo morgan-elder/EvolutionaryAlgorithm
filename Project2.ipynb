{
  "nbformat": 4,
  "nbformat_minor": 0,
  "metadata": {
    "colab": {
      "provenance": []
    },
    "kernelspec": {
      "name": "python3",
      "display_name": "Python 3"
    },
    "language_info": {
      "name": "python"
    }
  },
  "cells": [
    {
      "cell_type": "markdown",
      "source": [
        "# Shekel's Function\n",
        "\n",
        "The objective of this project is to minimize Shekel's function using parameters from De Jong function #5:\n",
        "\n",
        "$$f(\\vec{x}) = \\left(0.002 + \\sum_{i=1}^{25}\\frac{1}{i + (x_1 - a_{1i})^6 + (x_2 - a_{2i})^6}\\right)^{-1}$$\n",
        "\n",
        "where $$\n",
        "\\textbf{a} =\n",
        " \\begin{pmatrix}\n",
        "    -32 & -16 & 0 & 16 & 32 & -32 & \\ldots & 0 & 16 & 32 \\\\\n",
        "    -32 & -32 & -32 & -32 & -32 & -16 & \\ldots & 32 & 32 & 32\n",
        " \\end{pmatrix}$$\n",
        "\n",
        "The number of dimensions is 2 and the input domain is $-65.536 \\le x_i \\le 65.536$ for $i=1,2$. \n",
        "\n",
        "\n",
        "\n",
        "\n",
        "\n",
        "\n",
        "\n",
        "\n"
      ],
      "metadata": {
        "id": "MVLWKr_PcMKA"
      }
    },
    {
      "cell_type": "code",
      "source": [
        "#import modules\n",
        "import numpy as np"
      ],
      "metadata": {
        "id": "_QPHBl0oiNVu"
      },
      "execution_count": 1,
      "outputs": []
    },
    {
      "cell_type": "code",
      "source": [
        "class Problem():\n",
        "  \"\"\"The Problem class defines the problems contains the definitions of\n",
        "  of problems. Problems include any information such as the optimization\n",
        "  goal (min/max), objective function, input dimension, domain/range constraints, \n",
        "  and more.\"\"\"\n",
        "  class De_Jong_Function_5():\n",
        "    # variables common to any instance of De Jong Functions Problems\n",
        "    dimensions=2\n",
        "\n",
        "\n",
        "    "
      ],
      "metadata": {
        "id": "hdkCDF074zOu",
        "outputId": "01a97e8f-494b-47a9-d7e4-0da802454b16",
        "colab": {
          "base_uri": "https://localhost:8080/"
        }
      },
      "execution_count": 9,
      "outputs": [
        {
          "output_type": "execute_result",
          "data": {
            "text/plain": [
              "array([[0., 0., 0., 0., 0., 0., 0., 0., 0., 0., 0., 0., 0., 0., 0., 0.,\n",
              "        0., 0., 0., 0., 0., 0., 0., 0., 0.],\n",
              "       [0., 0., 0., 0., 0., 0., 0., 0., 0., 0., 0., 0., 0., 0., 0., 0.,\n",
              "        0., 0., 0., 0., 0., 0., 0., 0., 0.]])"
            ]
          },
          "metadata": {},
          "execution_count": 9
        }
      ]
    },
    {
      "cell_type": "code",
      "execution_count": 14,
      "metadata": {
        "id": "DQP_l46_yFhh"
      },
      "outputs": [],
      "source": [
        "class Objective_Function():\n",
        "  @staticmethod\n",
        "  def de_jong_function_5(x):\n",
        "    \"\"\"De Jong function #5 is variation of Shekel's foxeholes problem involving\n",
        "    25 local minima, 2 dimensions, and predefined constants in matrix a.\n",
        "    This problem is suited for multimodal optimization.\"\"\"\n",
        "\n",
        "    # initialize 2x25 matrix_a\n",
        "    n_dimensions = 2\n",
        "    m_minima = 25\n",
        "    repeatabed_elements = [-32,-16,0,16,32]\n",
        "    matrix_a = np.zeros((n_dimensions, m_minima))\n",
        "    matrix_a[0, :] = np.tile(repeatabed_elements, 5)\n",
        "    matrix_a[1, :] = np.repeat(repeatabed_elements, 5)\n",
        "    print(matrix_a)\n",
        "    \n",
        "    pass"
      ]
    },
    {
      "cell_type": "code",
      "source": [
        "Objective_Function.de_jong_function_5(1)"
      ],
      "metadata": {
        "colab": {
          "base_uri": "https://localhost:8080/"
        },
        "id": "EHeW-mHb0K1F",
        "outputId": "f211ffa8-c810-4ad8-95c0-f4709e310237"
      },
      "execution_count": 15,
      "outputs": [
        {
          "output_type": "stream",
          "name": "stdout",
          "text": [
            "[[-32. -16.   0.  16.  32. -32. -16.   0.  16.  32. -32. -16.   0.  16.\n",
            "   32. -32. -16.   0.  16.  32. -32. -16.   0.  16.  32.]\n",
            " [-32. -32. -32. -32. -32. -16. -16. -16. -16. -16.   0.   0.   0.   0.\n",
            "    0.  16.  16.  16.  16.  16.  32.  32.  32.  32.  32.]]\n"
          ]
        }
      ]
    },
    {
      "cell_type": "markdown",
      "source": [
        "1. Write a brief (no more than a paragraph) note on the importance of the choice of parameter settings in evolutionary algorithms. Or argue, with well-articulated, precise reasons (one paragraph only), that parameters do not really matter in EC."
      ],
      "metadata": {
        "id": "ziKhpZZGI3ow"
      }
    },
    {
      "cell_type": "markdown",
      "source": [
        "I would say that when working with evolutionary algorithms, diversity is very important for the growth and success of the evolutionary algorithms. There should not be one indiviudual within the population that over takes the other. If that would happen then there would be stagnation within the growth of the algorithms. In order to prevent such an event of happening and encourage growth and diversity, it is important to focus on the choice of parameters settings in evolutionary algorithms. If good parameters were choosen, there will be higher chances or growth and diversity to happen and the inverse would result in a higher chance of stangnation."
      ],
      "metadata": {
        "id": "tH_iSo3fI90m"
      }
    }
  ]
}