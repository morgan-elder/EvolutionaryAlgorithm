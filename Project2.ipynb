{
  "cells": [
    {
      "attachments": {},
      "cell_type": "markdown",
      "metadata": {},
      "source": [
        "# Project 2\n",
        "\n",
        "Morgan Elder<br>\n",
        "Ben Vuong<br>\n",
        "CS 4320"
      ]
    },
    {
      "attachments": {},
      "cell_type": "markdown",
      "metadata": {},
      "source": [
        "1. Write a brief (no more than a paragraph) note on the importance of the choice of \n",
        "parameter settings in evolutionary algorithms. Or argue, with well-articulated, precise \n",
        "reasons (one paragraph only), that parameters do not really matter in EC.  "
      ]
    },
    {
      "attachments": {},
      "cell_type": "markdown",
      "metadata": {},
      "source": [
        "I would say that when working with evolutionary algorithms, diversity is very important for the growth and success of the evolutionary algorithms. There should not be one indiviudual within the population that over takes the other. If that would happen then there would be stagnation within the growth of the algorithms. In order to prevent such an event of happening and encourage growth and diversity, it is important to focus on the choice of parameters settings in evolutionary algorithms. If good parameters were choosen, there will be higher chances or growth and diversity to happen and the inverse would result in a higher chance of stangnation."
      ]
    },
    {
      "attachments": {},
      "cell_type": "markdown",
      "metadata": {},
      "source": [
        "Evolutionary algorithm (EA) parameters directly influence the exploration with diverse populations and exploitation of fit individuals. Parameters include all of the algorithm design choices such as genetic operators, operator parameters, stopping conditions, population size and seed. For example, parameters like the mutation rate or cross over probability can increase exploration whereas selection/sampling method can increase exploitation. Because EAs are stochastic, the applicability of an EA, more specfically the EA parameters, accross different problems, problem instances, and sizes must be compared using statistical methods and many runs that are *iid*. Therefore, parameter settings are an important part of the optimization process that must strike a balance between generalizability, computational cost, and performance."
      ]
    },
    {
      "cell_type": "markdown",
      "metadata": {
        "id": "MVLWKr_PcMKA"
      },
      "source": [
        "# De Jong Function 5: Variation of Shekel's Function \n",
        "\n",
        "The objective of this project is to minimize Shekel's function using parameters from De Jong function #5:\n",
        "\n",
        "$$f(\\vec{x}) = \\left(0.002 + \\sum_{i=1}^{25}\\frac{1}{i + (x_1 - a_{1i})^6 + (x_2 - a_{2i})^6}\\right)^{-1}$$\n",
        "\n",
        "where $$\n",
        "\\textbf{a} =\n",
        " \\begin{pmatrix}\n",
        "    -32 & -16 & 0 & 16 & 32 & -32 & \\ldots & 0 & 16 & 32 \\\\\n",
        "    -32 & -32 & -32 & -32 & -32 & -16 & \\ldots & 32 & 32 & 32\n",
        " \\end{pmatrix}$$\n",
        "\n",
        "The number of dimensions is 2 and the input domain is $-65.536 \\le x_i \\le 65.536$ for $i=1,2$. \n",
        "\n",
        "\n",
        "\n",
        "\n",
        "\n",
        "\n",
        "\n",
        "\n"
      ]
    },
    {
      "cell_type": "code",
      "execution_count": 147,
      "metadata": {
        "id": "_QPHBl0oiNVu"
      },
      "outputs": [],
      "source": [
        "#import modules\n",
        "import numpy as np\n",
        "from enum import Enum\n",
        "import warnings\n",
        "import inspect\n",
        "from typing import Union"
      ]
    },
    {
      "cell_type": "markdown",
      "metadata": {
        "id": "JCRBtaBwXA1L"
      },
      "source": [
        "## Optimization Goals\n",
        "\n",
        "Use the Optimization_Goal class as an enum type in order to define a goal variable as either min or max."
      ]
    },
    {
      "cell_type": "code",
      "execution_count": 148,
      "metadata": {
        "id": "JjWPX6o8SlBH"
      },
      "outputs": [],
      "source": [
        "class Optimization_Goal(Enum):\n",
        "  MINIMIZE = 1\n",
        "  MAXIMIZE = 2"
      ]
    },
    {
      "attachments": {},
      "cell_type": "markdown",
      "metadata": {
        "id": "OdMpsrQmZkmI"
      },
      "source": [
        "## Optimization Problems\n",
        "\n",
        "Genetic algorithms are suited for optimization problems. The Problem class is used to identify subclasses as optimization problems."
      ]
    },
    {
      "cell_type": "code",
      "execution_count": 149,
      "metadata": {
        "id": "hdkCDF074zOu"
      },
      "outputs": [],
      "source": [
        "class Problem():\n",
        "  \"\"\"The Problem class defines the problems contains the definitions of\n",
        "  of problems. Problems include any information such as the optimization\n",
        "  goal (min/max), objective function, input dimension, domain/range constraints, \n",
        "  and more.\"\"\"\n",
        "  pass\n",
        "  \n",
        "class De_Jong_Function_5(Problem):\n",
        "  \"\"\"De Jong function #5 is variation of Shekel's foxeholes problem involving\n",
        "  25 local minima, 2 dimensions, and predefined constants.\n",
        "  This problem is suited for multimodal optimization.\"\"\"\n",
        "  dimensions=2\n",
        "  goal=Optimization_Goal.MINIMIZE\n",
        "  upper_bounds = [65.536, 65.536]\n",
        "  lower_bounds = [-65.536, 65.536]\n",
        "  constants_array = np.array(\n",
        "      [[-32., -16., 0., 16., 32., -32., -16., 0., 16., 32., -32., -16., 0., \n",
        "        16., 32., -32., -16., 0., 16., 32., -32., -16., 0., 16., 32.],\n",
        "        [-32., -32., -32., -32., -32., -16., -16., -16., -16., -16., 0., 0., \n",
        "        0., 0., 0., 16., 16., 16., 16., 16., 32., 32., 32., 32., 32.]]\n",
        "    )\n",
        "  def objective_function(self, X):\n",
        "    # array representing the 1st to 25th elements of the summation\n",
        "    array_i = np.arange(1, self.constants_array.shape[1]+1, step=1)\n",
        "    results = (0.002 + np.sum(1/(array_i \n",
        "                        + (X[:,[0]] - self.constants_array[0])**6\n",
        "                        + (X[:, [1]] - self.constants_array[1])**6), axis=1))**-1\n",
        "    return results    "
      ]
    },
    {
      "attachments": {},
      "cell_type": "markdown",
      "metadata": {},
      "source": [
        "## Genetic Operators"
      ]
    },
    {
      "cell_type": "code",
      "execution_count": 150,
      "metadata": {},
      "outputs": [],
      "source": [
        "class Genetic_Operator:\n",
        "    \"\"\"The Genetic_Operator base class defines the genetic operators used in\n",
        "    genetic algorithms. These include crossover and mutation.\"\"\"\n",
        "    pass"
      ]
    },
    {
      "attachments": {},
      "cell_type": "markdown",
      "metadata": {},
      "source": [
        "### Selection"
      ]
    },
    {
      "cell_type": "code",
      "execution_count": 151,
      "metadata": {},
      "outputs": [],
      "source": [
        "class Selection(Genetic_Operator):\n",
        "    \"\"\"The Selection class defines the selection operator used in genetic\n",
        "    algorithms. This includes the selection of parents and the selection of\n",
        "    survivors.\"\"\"\n",
        "    \n",
        "    def __init__(self, selection_type: str=\"proportional\"):\n",
        "      # dictionary of selection types and their corresponding methods\n",
        "      selection_types = { \"proportional\": self.proportional }\n",
        "      # check if selection type is valid\n",
        "      if selection_type not in selection_types:\n",
        "        raise ValueError(f\"Invalid selection type: {selection_type}\")\n",
        "      self.selection_type = selection_types[selection_type]\n",
        "    \n",
        "\n",
        "    \n",
        "    def proportional(self):\n",
        "      print(\"hello from proportional\")\n",
        "      pass\n",
        "\n",
        "    def run(self, **kwargs):\n",
        "      \"\"\"The run method runs the selection operator.\"\"\"\n",
        "      self.selection_type(**kwargs)\n",
        "        "
      ]
    },
    {
      "attachments": {},
      "cell_type": "markdown",
      "metadata": {},
      "source": [
        "### Cross Over"
      ]
    },
    {
      "cell_type": "code",
      "execution_count": 152,
      "metadata": {},
      "outputs": [],
      "source": [
        "class Crossover(Genetic_Operator):\n",
        "    \"\"\"The Crossover class defines the crossover operator used in genetic\n",
        "    algorithms.\"\"\"\n",
        "    \n",
        "    def __init__(self):\n",
        "      pass"
      ]
    },
    {
      "attachments": {},
      "cell_type": "markdown",
      "metadata": {},
      "source": [
        "### Mutation"
      ]
    },
    {
      "cell_type": "code",
      "execution_count": 153,
      "metadata": {},
      "outputs": [],
      "source": [
        "class Mutation(Genetic_Operator):\n",
        "    \"\"\"The Mutation class defines the mutation operator used in genetic\n",
        "    algorithms.\"\"\"\n",
        "    \n",
        "    def __init__(self):\n",
        "      pass"
      ]
    },
    {
      "attachments": {},
      "cell_type": "markdown",
      "metadata": {},
      "source": [
        "## Stopping Conditions"
      ]
    },
    {
      "cell_type": "code",
      "execution_count": 154,
      "metadata": {},
      "outputs": [],
      "source": [
        "class Stopping_Condition:\n",
        "    \"\"\"The Stopping_Condition base class defines the stopping conditions used\n",
        "    in genetic algorithms. These include the number of generations and the\n",
        "    fitness threshold.\"\"\"\n",
        "\n",
        "    \n",
        "    pass\n",
        "\n",
        "class Max_Generations(Stopping_Condition):\n",
        "    \"\"\"The number_of_generations class defines the stopping condition based on\n",
        "    the number of generations.\"\"\"\n",
        "    def __init__(self, max_generations: int=100):\n",
        "      self.max_generations = max_generations\n",
        "    \n",
        "    def is_running(self, generation: int):\n",
        "        \"\"\"The is_running method checks if the algorithm should continue running\n",
        "        based on the number of generations.\"\"\"\n",
        "        running = True\n",
        "        if generation >= self.max_generations:\n",
        "            running = False\n",
        "        return running  \n",
        "    \n",
        "    def increase_max_generations(self, increase: int=100):\n",
        "        \"\"\"The increase_max_generations method increases the maximum number of\n",
        "        generations by a specified amount.\"\"\"\n",
        "        self.max_generations += increase\n",
        "\n",
        "    pass"
      ]
    },
    {
      "attachments": {},
      "cell_type": "markdown",
      "metadata": {},
      "source": [
        "## Genetic Algorithm"
      ]
    },
    {
      "cell_type": "code",
      "execution_count": 155,
      "metadata": {},
      "outputs": [],
      "source": [
        "class Genetic_Algorithm():\n",
        "    problem : Problem\n",
        "    algorithm_steps : list[Genetic_Operator] = []\n",
        "    stopping_condition : Stopping_Condition\n",
        "    generation : int = 0\n",
        "    \n",
        "    def __init__(self, problem : Problem = None, algorithm_steps : list[Genetic_Operator] = [],\n",
        "                 stopping_condition : Stopping_Condition = Max_Generations(),\n",
        "                 population_size : int = 100, population : np.ndarray = None,):\n",
        "        # loop locals and validate types\n",
        "        for key, value in locals().items():\n",
        "            match key:\n",
        "                case \"problem\":\n",
        "                    # check if problem is an instance of Problem\n",
        "                    if (not isinstance(value, Problem)):\n",
        "                        raise TypeError(f\"problem must be an instance of Problem. Received {type(value)}\")\n",
        "                    self.problem = value\n",
        "                case \"algorithm_steps\":\n",
        "                    # check if algorithm_steps is a list\n",
        "                    if (not isinstance(value, list)):\n",
        "                        raise TypeError(f\"algorithm_steps must be a list. Received {type(value)}\")\n",
        "                    # check if algorithm_steps is a list of Genetic_Operator\n",
        "                    if (not all(isinstance(item, Genetic_Operator) for item in value)):\n",
        "                        raise TypeError(f\"algorithm_steps must be a list of Genetic_Operator. Received {type(value)}\")\n",
        "                    self.algorithm_steps = value\n",
        "                case \"stopping_condition\":\n",
        "                    # check if stopping_condition is an instance of Stopping_Condition\n",
        "                    if (not isinstance(value, Stopping_Condition)):\n",
        "                        raise TypeError(f\"stopping_condition must be an instance of Stopping_Condition. Received {type(value)}\")\n",
        "                    self.stopping_condition = value\n",
        "            \n",
        "\n",
        "    def add_step(self, step : Genetic_Operator):\n",
        "        \"\"\"Add a step to the algorithm. The step will be appended to the\n",
        "        end of the algorithm.\"\"\"\n",
        "        # check if step is a Genetic_Operator\n",
        "        if (not isinstance(step, Genetic_Operator)):\n",
        "            raise TypeError(f\"step must be a Genetic_Operator. Received {type(step)}\")\n",
        "        self.algorithm_steps.append(step)\n",
        "\n",
        "    def add_steps(self, steps : list[Genetic_Operator]):\n",
        "        \"\"\"Add multiple steps to the algorithm. The steps will be appended to the\n",
        "        end of the algorithm.\"\"\"\n",
        "        # check if steps is a list\n",
        "        if (not isinstance(steps, list)):\n",
        "            raise TypeError(f\"steps must be a list. Received {type(steps)}\")\n",
        "        # check if steps is a list of Genetic_Operator\n",
        "        if (not all(isinstance(item, Genetic_Operator) for item in steps)):\n",
        "            raise TypeError(f\"steps must be a list of Genetic_Operator. Received {type(steps)}\")\n",
        "        self.algorithm_steps.extend(steps)\n",
        "\n",
        "    def set_problem(self, problem : Problem):\n",
        "        \"\"\"Set the problem to be solved. If a problem has already been set,\n",
        "        it will be overwritten and a warning will be raised.\"\"\"\n",
        "        if (self.problem is not None):\n",
        "            # \n",
        "            warnings.warn(f\"Problem already set to {self.problem}. Overwriting with {problem}.\")\n",
        "        self.problem = problem\n",
        "\n",
        "    def run(self):\n",
        "        \"\"\"Run the genetic algorithm.\"\"\"\n",
        "        if (self.is_ready()):\n",
        "            # self.evaluate()\n",
        "            # run algorithm steps\n",
        "            while (self.is_running()):\n",
        "                for step in self.algorithm_steps:\n",
        "                    # build arg dict for algorithm step and then run it\n",
        "                    step_args = self.build_arg_dict(step.run)\n",
        "                    step.run(**step_args)\n",
        "                    # self.evaluate()\n",
        "                    # record metrics\n",
        "                    pass\n",
        "                self.generation += 1\n",
        "    \n",
        "    def build_arg_dict(self, func):\n",
        "        \"\"\"Build an argument dictionary for a function.\"\"\"\n",
        "        signature = inspect.signature(func)\n",
        "        # build arg dict for algorithm step\n",
        "        args = {}\n",
        "        for param in signature.parameters.values():\n",
        "            if param.name == \"self\":\n",
        "                continue\n",
        "            args[param.name] = getattr(self, param.name)\n",
        "        return args\n",
        "\n",
        "    def is_running(self):\n",
        "        \"\"\"Check if the genetic algorithm should continue running.\"\"\"\n",
        "        stopping_condition_args = self.build_arg_dict(self.stopping_condition.is_running)\n",
        "        return self.stopping_condition.is_running(**stopping_condition_args)\n",
        "\n",
        "    def is_ready(self):\n",
        "        \"\"\"Check if the genetic algorithm is ready to run.\"\"\"\n",
        "        if (self.problem is None):\n",
        "            raise ValueError(\"No problem has been set.\")\n",
        "        if (len(self.algorithm_steps) == 0):\n",
        "            raise ValueError(\"No algorithm steps have been set.\")\n",
        "        if (self.stopping_condition is None):\n",
        "            raise ValueError(\"No stopping condition has been set.\")\n",
        "        return True\n",
        "\n",
        "    "
      ]
    },
    {
      "cell_type": "code",
      "execution_count": 156,
      "metadata": {
        "id": "EHeW-mHb0K1F"
      },
      "outputs": [],
      "source": [
        "# define genetic algorithm parameters in a dictionary\n",
        "ga_parameters = {\n",
        "  'problem' : De_Jong_Function_5(),\n",
        "  'algorithm_steps' : [Selection(), Crossover(), Mutation()],\n",
        "  'stopping_condition' : Max_Generations(),\n",
        "  'population_size' : 100,\n",
        "  \n",
        "}\n",
        "\n",
        "# create a genetic algorithm object\n",
        "ga = Genetic_Algorithm(problem=De_Jong_Function_5())"
      ]
    },
    {
      "cell_type": "code",
      "execution_count": 157,
      "metadata": {},
      "outputs": [],
      "source": [
        "ga.add_step(Selection())\n"
      ]
    }
  ],
  "metadata": {
    "colab": {
      "provenance": []
    },
    "kernelspec": {
      "display_name": "Python 3",
      "name": "python3"
    },
    "language_info": {
      "codemirror_mode": {
        "name": "ipython",
        "version": 3
      },
      "file_extension": ".py",
      "mimetype": "text/x-python",
      "name": "python",
      "nbconvert_exporter": "python",
      "pygments_lexer": "ipython3",
      "version": "3.10.6"
    }
  },
  "nbformat": 4,
  "nbformat_minor": 0
}
